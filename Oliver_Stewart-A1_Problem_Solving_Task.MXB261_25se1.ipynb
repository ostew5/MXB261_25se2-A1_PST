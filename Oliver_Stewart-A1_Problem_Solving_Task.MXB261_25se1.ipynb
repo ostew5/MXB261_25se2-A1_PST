{
 "cells": [
  {
   "cell_type": "markdown",
   "id": "57988031-f397-4b85-9761-deafd50cb91e",
   "metadata": {},
   "source": [
    "# Assignment 1 - Problem Solving Task\n",
    "\n",
    "|||\n",
    "|-|-|\n",
    "|**Course:**|MXB261 - Modelling and Simulation Science|\n",
    "|**Instructor:**|Dr. Maria Kleshnina|\n",
    "|**Student Name:**|Oliver Stewart|\n",
    "|**Student Number:**|n11588608|\n",
    "|**Due:**|23:59 on Friday of Week 6 (29 August 2025)|\n",
    "\r\n",
    "---"
   ]
  }
 ],
 "metadata": {
  "kernelspec": {
   "display_name": "MATLAB Kernel",
   "language": "matlab",
   "name": "jupyter_matlab_kernel"
  },
  "language_info": {
   "file_extension": ".m",
   "mimetype": "text/x-matlab",
   "name": "matlab"
  }
 },
 "nbformat": 4,
 "nbformat_minor": 5
}
